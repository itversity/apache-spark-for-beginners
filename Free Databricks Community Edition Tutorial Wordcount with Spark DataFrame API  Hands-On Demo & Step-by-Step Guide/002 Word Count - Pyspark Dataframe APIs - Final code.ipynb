{
 "cells": [
  {
   "cell_type": "code",
   "execution_count": 0,
   "metadata": {
    "application/vnd.databricks.v1+cell": {
     "cellMetadata": {
      "byteLimit": 2048000,
      "rowLimit": 10000
     },
     "inputWidgets": {},
     "nuid": "1e0ae0ed-9bc3-4f4e-8a21-5071b96910ae",
     "showTitle": false,
     "tableResultSettingsMap": {},
     "title": ""
    }
   },
   "outputs": [],
   "source": [
    "from pyspark.sql.functions import split, explode, count, col"
   ]
  },
  {
   "cell_type": "code",
   "execution_count": 0,
   "metadata": {
    "application/vnd.databricks.v1+cell": {
     "cellMetadata": {
      "byteLimit": 2048000,
      "rowLimit": 10000
     },
     "inputWidgets": {},
     "nuid": "7f1bc727-dfc8-4ed6-8335-69b8b7b09421",
     "showTitle": false,
     "tableResultSettingsMap": {},
     "title": ""
    }
   },
   "outputs": [],
   "source": [
    "lines = spark.read.text('dbfs:/databricks-datasets/SPARK_README.md')"
   ]
  },
  {
   "cell_type": "code",
   "execution_count": 0,
   "metadata": {
    "application/vnd.databricks.v1+cell": {
     "cellMetadata": {
      "byteLimit": 2048000,
      "rowLimit": 10000
     },
     "inputWidgets": {},
     "nuid": "b43fb43b-f520-4901-97c1-56eb9f95caa5",
     "showTitle": false,
     "tableResultSettingsMap": {},
     "title": ""
    }
   },
   "outputs": [],
   "source": [
    "words = lines.filter(\"value != ''\"). \\\n",
    "    select(explode(split('value', ' ')).alias('word'))"
   ]
  },
  {
   "cell_type": "code",
   "execution_count": 0,
   "metadata": {
    "application/vnd.databricks.v1+cell": {
     "cellMetadata": {
      "byteLimit": 2048000,
      "rowLimit": 10000
     },
     "inputWidgets": {},
     "nuid": "06482fc8-866e-41a3-8bd9-bdce468bdf75",
     "showTitle": false,
     "tableResultSettingsMap": {},
     "title": ""
    }
   },
   "outputs": [],
   "source": [
    "word_count = words. \\\n",
    "    groupBy('word'). \\\n",
    "    agg(count(\"*\").alias('word_count')). \\\n",
    "    orderBy(col('word_count').desc())"
   ]
  },
  {
   "cell_type": "code",
   "execution_count": 0,
   "metadata": {
    "application/vnd.databricks.v1+cell": {
     "cellMetadata": {
      "byteLimit": 2048000,
      "rowLimit": 10000
     },
     "inputWidgets": {},
     "nuid": "cb9ad21f-4f3e-4bc6-b5ed-8f3a37e889fc",
     "showTitle": false,
     "tableResultSettingsMap": {},
     "title": ""
    }
   },
   "outputs": [],
   "source": [
    "word_count.write.csv('dbfs:/data/word_count', mode='overwrite', header=True)"
   ]
  },
  {
   "cell_type": "code",
   "execution_count": 0,
   "metadata": {
    "application/vnd.databricks.v1+cell": {
     "cellMetadata": {
      "byteLimit": 2048000,
      "rowLimit": 10000
     },
     "inputWidgets": {},
     "nuid": "5efeed14-7aa0-462e-9ad6-64b2ac0f31e2",
     "showTitle": false,
     "tableResultSettingsMap": {},
     "title": ""
    }
   },
   "outputs": [],
   "source": [
    "df = spark.read.csv('dbfs:/data/word_count', header=True, inferSchema=True)"
   ]
  },
  {
   "cell_type": "code",
   "execution_count": 0,
   "metadata": {
    "application/vnd.databricks.v1+cell": {
     "cellMetadata": {
      "byteLimit": 2048000,
      "rowLimit": 10000
     },
     "inputWidgets": {},
     "nuid": "783aedb5-afb2-4f58-8bf2-9fbf1d8c3c79",
     "showTitle": false,
     "tableResultSettingsMap": {},
     "title": ""
    }
   },
   "outputs": [
    {
     "output_type": "display_data",
     "data": {
      "text/html": [
       "<style scoped>\n",
       "  .table-result-container {\n",
       "    max-height: 300px;\n",
       "    overflow: auto;\n",
       "  }\n",
       "  table, th, td {\n",
       "    border: 1px solid black;\n",
       "    border-collapse: collapse;\n",
       "  }\n",
       "  th, td {\n",
       "    padding: 5px;\n",
       "  }\n",
       "  th {\n",
       "    text-align: left;\n",
       "  }\n",
       "</style><div class='table-result-container'><table class='table-result'><thead style='background-color: white'><tr><th>word</th><th>word_count</th></tr></thead><tbody><tr><td>null</td><td>32</td></tr><tr><td>the</td><td>21</td></tr><tr><td>to</td><td>14</td></tr><tr><td>Spark</td><td>13</td></tr><tr><td>for</td><td>11</td></tr><tr><td>and</td><td>10</td></tr><tr><td>##</td><td>8</td></tr><tr><td>a</td><td>8</td></tr><tr><td>run</td><td>7</td></tr><tr><td>can</td><td>6</td></tr><tr><td>is</td><td>6</td></tr><tr><td>in</td><td>5</td></tr><tr><td>on</td><td>5</td></tr><tr><td>of</td><td>5</td></tr><tr><td>you</td><td>4</td></tr><tr><td>if</td><td>4</td></tr><tr><td>also</td><td>4</td></tr><tr><td>documentation</td><td>3</td></tr><tr><td>example</td><td>3</td></tr><tr><td>with</td><td>3</td></tr><tr><td>use</td><td>3</td></tr><tr><td>You</td><td>3</td></tr><tr><td>Please</td><td>3</td></tr><tr><td>build</td><td>3</td></tr><tr><td>an</td><td>3</td></tr><tr><td>including</td><td>3</td></tr><tr><td>or</td><td>3</td></tr><tr><td>Hadoop</td><td>3</td></tr><tr><td>command,</td><td>2</td></tr><tr><td>set</td><td>2</td></tr><tr><td>programs</td><td>2</td></tr><tr><td>tests</td><td>2</td></tr><tr><td>particular</td><td>2</td></tr><tr><td>using</td><td>2</td></tr><tr><td>guidance</td><td>2</td></tr><tr><td>shell:</td><td>2</td></tr><tr><td>Interactive</td><td>2</td></tr><tr><td>how</td><td>2</td></tr><tr><td>Hive</td><td>2</td></tr><tr><td>one</td><td>2</td></tr><tr><td>building</td><td>2</td></tr><tr><td>be</td><td>2</td></tr><tr><td>locally</td><td>2</td></tr><tr><td>should</td><td>2</td></tr><tr><td>[project</td><td>2</td></tr><tr><td>`examples`</td><td>2</td></tr><tr><td>general</td><td>2</td></tr><tr><td>1000:</td><td>2</td></tr><tr><td>detailed</td><td>2</td></tr><tr><td>following</td><td>2</td></tr><tr><td>SparkPi</td><td>2</td></tr><tr><td>refer</td><td>2</td></tr><tr><td>./bin/run-example</td><td>2</td></tr><tr><td>It</td><td>2</td></tr><tr><td>To</td><td>2</td></tr><tr><td>return</td><td>2</td></tr><tr><td>cluster</td><td>2</td></tr><tr><td>do</td><td>2</td></tr><tr><td>Scala</td><td>2</td></tr><tr><td>class</td><td>2</td></tr><tr><td>Hadoop,</td><td>2</td></tr><tr><td>SQL</td><td>2</td></tr><tr><td>Python,</td><td>2</td></tr><tr><td>examples</td><td>2</td></tr><tr><td>Python</td><td>2</td></tr><tr><td>at</td><td>2</td></tr><tr><td>that</td><td>2</td></tr><tr><td>For</td><td>2</td></tr><tr><td>This</td><td>2</td></tr><tr><td>Shell</td><td>2</td></tr><tr><td>supports</td><td>2</td></tr><tr><td>which</td><td>2</td></tr><tr><td>online</td><td>1</td></tr><tr><td>graphs</td><td>1</td></tr><tr><td>[\"Building</td><td>1</td></tr><tr><td>abbreviated</td><td>1</td></tr><tr><td>overview</td><td>1</td></tr><tr><td>rich</td><td>1</td></tr><tr><td>-DskipTests</td><td>1</td></tr><tr><td>name</td><td>1</td></tr><tr><td>[\"Specifying</td><td>1</td></tr><tr><td>stream</td><td>1</td></tr><tr><td>run:</td><td>1</td></tr><tr><td>not</td><td>1</td></tr><tr><td>./dev/run-tests</td><td>1</td></tr><tr><td>will</td><td>1</td></tr><tr><td>[run</td><td>1</td></tr><tr><td>Alternatively,</td><td>1</td></tr><tr><td>must</td><td>1</td></tr><tr><td>MLlib</td><td>1</td></tr><tr><td>DataFrames,</td><td>1</td></tr><tr><td>variable</td><td>1</td></tr><tr><td>Note</td><td>1</td></tr><tr><td>core</td><td>1</td></tr><tr><td>protocols</td><td>1</td></tr><tr><td>site,</td><td>1</td></tr><tr><td>systems.</td><td>1</td></tr><tr><td>[building</td><td>1</td></tr><tr><td>configure</td><td>1</td></tr><tr><td>README</td><td>1</td></tr><tr><td>[Configuration</td><td>1</td></tr><tr><td>system</td><td>1</td></tr><tr><td>provides</td><td>1</td></tr><tr><td>Hadoop-supported</td><td>1</td></tr><tr><td>pre-built</td><td>1</td></tr><tr><td>directory.</td><td>1</td></tr><tr><td>wiki](https://cwiki.apache.org/confluence/display/SPARK).</td><td>1</td></tr><tr><td>Example</td><td>1</td></tr><tr><td>MASTER</td><td>1</td></tr><tr><td>library</td><td>1</td></tr><tr><td>Spark.</td><td>1</td></tr><tr><td>contains</td><td>1</td></tr><tr><td>Configuration</td><td>1</td></tr><tr><td>programming</td><td>1</td></tr><tr><td>downloaded</td><td>1</td></tr><tr><td>1000).count()</td><td>1</td></tr><tr><td>comes</td><td>1</td></tr><tr><td>machine</td><td>1</td></tr><tr><td>Version\"](http://spark.apache.org/docs/latest/building-spark.html#specifying-the-hadoop-version)</td><td>1</td></tr><tr><td>params</td><td>1</td></tr><tr><td>Guide](http://spark.apache.org/docs/latest/configuration.html)</td><td>1</td></tr><tr><td>given.</td><td>1</td></tr><tr><td>same</td><td>1</td></tr><tr><td>page](http://spark.apache.org/documentation.html)</td><td>1</td></tr><tr><td>Programs</td><td>1</td></tr><tr><td>using:</td><td>1</td></tr><tr><td>fast</td><td>1</td></tr><tr><td>[Apache</td><td>1</td></tr><tr><td>your</td><td>1</td></tr><tr><td>optimized</td><td>1</td></tr><tr><td>R,</td><td>1</td></tr><tr><td>graph</td><td>1</td></tr><tr><td>package</td><td>1</td></tr><tr><td>project</td><td>1</td></tr><tr><td>versions</td><td>1</td></tr><tr><td>Spark](#building-spark).</td><td>1</td></tr><tr><td>other</td><td>1</td></tr><tr><td>learning,</td><td>1</td></tr><tr><td>when</td><td>1</td></tr><tr><td>submit</td><td>1</td></tr><tr><td>Apache</td><td>1</td></tr><tr><td>About</td><td>1</td></tr><tr><td>scala></td><td>1</td></tr><tr><td>print</td><td>1</td></tr><tr><td>different</td><td>1</td></tr><tr><td>data</td><td>1</td></tr><tr><td>Tests</td><td>1</td></tr><tr><td>Versions</td><td>1</td></tr><tr><td>Data.</td><td>1</td></tr><tr><td>processing.</td><td>1</td></tr><tr><td>its</td><td>1</td></tr><tr><td>basic</td><td>1</td></tr><tr><td>latest</td><td>1</td></tr><tr><td>only</td><td>1</td></tr><tr><td><class></td><td>1</td></tr><tr><td>have</td><td>1</td></tr><tr><td>runs.</td><td>1</td></tr><tr><td>YARN,</td><td>1</td></tr><tr><td>\"local\"</td><td>1</td></tr><tr><td>processing,</td><td>1</td></tr><tr><td>built</td><td>1</td></tr><tr><td>Pi</td><td>1</td></tr><tr><td>thread,</td><td>1</td></tr><tr><td>A</td><td>1</td></tr><tr><td>APIs</td><td>1</td></tr><tr><td>Scala,</td><td>1</td></tr><tr><td>file</td><td>1</td></tr><tr><td>computation</td><td>1</td></tr><tr><td>Once</td><td>1</td></tr><tr><td>find</td><td>1</td></tr><tr><td>sc.parallelize(1</td><td>1</td></tr><tr><td>uses</td><td>1</td></tr><tr><td>N</td><td>1</td></tr><tr><td>programs,</td><td>1</td></tr><tr><td>\"yarn\"</td><td>1</td></tr><tr><td>see</td><td>1</td></tr><tr><td>./bin/pyspark</td><td>1</td></tr><tr><td>computing</td><td>1</td></tr><tr><td>Java,</td><td>1</td></tr><tr><td>from</td><td>1</td></tr><tr><td>Because</td><td>1</td></tr><tr><td>Streaming</td><td>1</td></tr><tr><td>More</td><td>1</td></tr><tr><td>analysis.</td><td>1</td></tr><tr><td>Maven](http://maven.apache.org/).</td><td>1</td></tr><tr><td>cluster.</td><td>1</td></tr><tr><td>Running</td><td>1</td></tr><tr><td>talk</td><td>1</td></tr><tr><td>distributions.</td><td>1</td></tr><tr><td>guide,</td><td>1</td></tr><tr><td>\"local[N]\"</td><td>1</td></tr><tr><td>Try</td><td>1</td></tr><tr><td>setup</td><td>1</td></tr><tr><td>need</td><td>1</td></tr><tr><td>spark://</td><td>1</td></tr><tr><td>Thriftserver</td><td>1</td></tr><tr><td>are</td><td>1</td></tr><tr><td>requires</td><td>1</td></tr><tr><td>package.</td><td>1</td></tr><tr><td>clean</td><td>1</td></tr><tr><td>sc.parallelize(range(1000)).count()</td><td>1</td></tr><tr><td>high-level</td><td>1</td></tr><tr><td>against</td><td>1</td></tr><tr><td>through</td><td>1</td></tr><tr><td>package.)</td><td>1</td></tr><tr><td>easiest</td><td>1</td></tr><tr><td>no</td><td>1</td></tr><tr><td>Testing</td><td>1</td></tr><tr><td>several</td><td>1</td></tr><tr><td>help</td><td>1</td></tr><tr><td>The</td><td>1</td></tr><tr><td>sample</td><td>1</td></tr><tr><td>MASTER=spark://host:7077</td><td>1</td></tr><tr><td>Big</td><td>1</td></tr><tr><td>#</td><td>1</td></tr><tr><td>Online</td><td>1</td></tr><tr><td>usage</td><td>1</td></tr><tr><td>Spark\"](http://spark.apache.org/docs/latest/building-spark.html).</td><td>1</td></tr><tr><td>way</td><td>1</td></tr><tr><td>prefer</td><td>1</td></tr><tr><td>build/mvn</td><td>1</td></tr><tr><td>running</td><td>1</td></tr><tr><td>web</td><td>1</td></tr><tr><td>locally.</td><td>1</td></tr><tr><td>URL,</td><td>1</td></tr><tr><td>higher-level</td><td>1</td></tr><tr><td>tools</td><td>1</td></tr><tr><td>available</td><td>1</td></tr><tr><td>Documentation</td><td>1</td></tr><tr><td>this</td><td>1</td></tr><tr><td>tests](https://cwiki.apache.org/confluence/display/SPARK/Useful+Developer+Tools).</td><td>1</td></tr><tr><td>(You</td><td>1</td></tr><tr><td>>>></td><td>1</td></tr><tr><td><http://spark.apache.org/></td><td>1</td></tr><tr><td>environment</td><td>1</td></tr><tr><td>built,</td><td>1</td></tr><tr><td>module,</td><td>1</td></tr><tr><td>them,</td><td>1</td></tr><tr><td>`./bin/run-example</td><td>1</td></tr><tr><td>instance:</td><td>1</td></tr><tr><td>first</td><td>1</td></tr><tr><td>documentation,</td><td>1</td></tr><tr><td>[params]`.</td><td>1</td></tr><tr><td>mesos://</td><td>1</td></tr><tr><td>engine</td><td>1</td></tr><tr><td>GraphX</td><td>1</td></tr><tr><td>example:</td><td>1</td></tr><tr><td>HDFS</td><td>1</td></tr><tr><td>individual</td><td>1</td></tr><tr><td>changed</td><td>1</td></tr><tr><td>./bin/spark-shell</td><td>1</td></tr><tr><td>threads.</td><td>1</td></tr><tr><td>storage</td><td>1</td></tr><tr><td>version</td><td>1</td></tr><tr><td>instructions.</td><td>1</td></tr><tr><td>Building</td><td>1</td></tr><tr><td>start</td><td>1</td></tr><tr><td>Many</td><td>1</td></tr><tr><td>And</td><td>1</td></tr><tr><td>distribution</td><td>1</td></tr></tbody></table></div>"
      ]
     },
     "metadata": {
      "application/vnd.databricks.v1+output": {
       "addedWidgets": {},
       "aggData": [],
       "aggError": "",
       "aggOverflow": false,
       "aggSchema": [],
       "aggSeriesLimitReached": false,
       "aggType": "",
       "arguments": {},
       "columnCustomDisplayInfos": {},
       "data": [
        [
         null,
         32
        ],
        [
         "the",
         21
        ],
        [
         "to",
         14
        ],
        [
         "Spark",
         13
        ],
        [
         "for",
         11
        ],
        [
         "and",
         10
        ],
        [
         "##",
         8
        ],
        [
         "a",
         8
        ],
        [
         "run",
         7
        ],
        [
         "can",
         6
        ],
        [
         "is",
         6
        ],
        [
         "in",
         5
        ],
        [
         "on",
         5
        ],
        [
         "of",
         5
        ],
        [
         "you",
         4
        ],
        [
         "if",
         4
        ],
        [
         "also",
         4
        ],
        [
         "documentation",
         3
        ],
        [
         "example",
         3
        ],
        [
         "with",
         3
        ],
        [
         "use",
         3
        ],
        [
         "You",
         3
        ],
        [
         "Please",
         3
        ],
        [
         "build",
         3
        ],
        [
         "an",
         3
        ],
        [
         "including",
         3
        ],
        [
         "or",
         3
        ],
        [
         "Hadoop",
         3
        ],
        [
         "command,",
         2
        ],
        [
         "set",
         2
        ],
        [
         "programs",
         2
        ],
        [
         "tests",
         2
        ],
        [
         "particular",
         2
        ],
        [
         "using",
         2
        ],
        [
         "guidance",
         2
        ],
        [
         "shell:",
         2
        ],
        [
         "Interactive",
         2
        ],
        [
         "how",
         2
        ],
        [
         "Hive",
         2
        ],
        [
         "one",
         2
        ],
        [
         "building",
         2
        ],
        [
         "be",
         2
        ],
        [
         "locally",
         2
        ],
        [
         "should",
         2
        ],
        [
         "[project",
         2
        ],
        [
         "`examples`",
         2
        ],
        [
         "general",
         2
        ],
        [
         "1000:",
         2
        ],
        [
         "detailed",
         2
        ],
        [
         "following",
         2
        ],
        [
         "SparkPi",
         2
        ],
        [
         "refer",
         2
        ],
        [
         "./bin/run-example",
         2
        ],
        [
         "It",
         2
        ],
        [
         "To",
         2
        ],
        [
         "return",
         2
        ],
        [
         "cluster",
         2
        ],
        [
         "do",
         2
        ],
        [
         "Scala",
         2
        ],
        [
         "class",
         2
        ],
        [
         "Hadoop,",
         2
        ],
        [
         "SQL",
         2
        ],
        [
         "Python,",
         2
        ],
        [
         "examples",
         2
        ],
        [
         "Python",
         2
        ],
        [
         "at",
         2
        ],
        [
         "that",
         2
        ],
        [
         "For",
         2
        ],
        [
         "This",
         2
        ],
        [
         "Shell",
         2
        ],
        [
         "supports",
         2
        ],
        [
         "which",
         2
        ],
        [
         "online",
         1
        ],
        [
         "graphs",
         1
        ],
        [
         "[\"Building",
         1
        ],
        [
         "abbreviated",
         1
        ],
        [
         "overview",
         1
        ],
        [
         "rich",
         1
        ],
        [
         "-DskipTests",
         1
        ],
        [
         "name",
         1
        ],
        [
         "[\"Specifying",
         1
        ],
        [
         "stream",
         1
        ],
        [
         "run:",
         1
        ],
        [
         "not",
         1
        ],
        [
         "./dev/run-tests",
         1
        ],
        [
         "will",
         1
        ],
        [
         "[run",
         1
        ],
        [
         "Alternatively,",
         1
        ],
        [
         "must",
         1
        ],
        [
         "MLlib",
         1
        ],
        [
         "DataFrames,",
         1
        ],
        [
         "variable",
         1
        ],
        [
         "Note",
         1
        ],
        [
         "core",
         1
        ],
        [
         "protocols",
         1
        ],
        [
         "site,",
         1
        ],
        [
         "systems.",
         1
        ],
        [
         "[building",
         1
        ],
        [
         "configure",
         1
        ],
        [
         "README",
         1
        ],
        [
         "[Configuration",
         1
        ],
        [
         "system",
         1
        ],
        [
         "provides",
         1
        ],
        [
         "Hadoop-supported",
         1
        ],
        [
         "pre-built",
         1
        ],
        [
         "directory.",
         1
        ],
        [
         "wiki](https://cwiki.apache.org/confluence/display/SPARK).",
         1
        ],
        [
         "Example",
         1
        ],
        [
         "MASTER",
         1
        ],
        [
         "library",
         1
        ],
        [
         "Spark.",
         1
        ],
        [
         "contains",
         1
        ],
        [
         "Configuration",
         1
        ],
        [
         "programming",
         1
        ],
        [
         "downloaded",
         1
        ],
        [
         "1000).count()",
         1
        ],
        [
         "comes",
         1
        ],
        [
         "machine",
         1
        ],
        [
         "Version\"](http://spark.apache.org/docs/latest/building-spark.html#specifying-the-hadoop-version)",
         1
        ],
        [
         "params",
         1
        ],
        [
         "Guide](http://spark.apache.org/docs/latest/configuration.html)",
         1
        ],
        [
         "given.",
         1
        ],
        [
         "same",
         1
        ],
        [
         "page](http://spark.apache.org/documentation.html)",
         1
        ],
        [
         "Programs",
         1
        ],
        [
         "using:",
         1
        ],
        [
         "fast",
         1
        ],
        [
         "[Apache",
         1
        ],
        [
         "your",
         1
        ],
        [
         "optimized",
         1
        ],
        [
         "R,",
         1
        ],
        [
         "graph",
         1
        ],
        [
         "package",
         1
        ],
        [
         "project",
         1
        ],
        [
         "versions",
         1
        ],
        [
         "Spark](#building-spark).",
         1
        ],
        [
         "other",
         1
        ],
        [
         "learning,",
         1
        ],
        [
         "when",
         1
        ],
        [
         "submit",
         1
        ],
        [
         "Apache",
         1
        ],
        [
         "About",
         1
        ],
        [
         "scala>",
         1
        ],
        [
         "print",
         1
        ],
        [
         "different",
         1
        ],
        [
         "data",
         1
        ],
        [
         "Tests",
         1
        ],
        [
         "Versions",
         1
        ],
        [
         "Data.",
         1
        ],
        [
         "processing.",
         1
        ],
        [
         "its",
         1
        ],
        [
         "basic",
         1
        ],
        [
         "latest",
         1
        ],
        [
         "only",
         1
        ],
        [
         "<class>",
         1
        ],
        [
         "have",
         1
        ],
        [
         "runs.",
         1
        ],
        [
         "YARN,",
         1
        ],
        [
         "\"local\"",
         1
        ],
        [
         "processing,",
         1
        ],
        [
         "built",
         1
        ],
        [
         "Pi",
         1
        ],
        [
         "thread,",
         1
        ],
        [
         "A",
         1
        ],
        [
         "APIs",
         1
        ],
        [
         "Scala,",
         1
        ],
        [
         "file",
         1
        ],
        [
         "computation",
         1
        ],
        [
         "Once",
         1
        ],
        [
         "find",
         1
        ],
        [
         "sc.parallelize(1",
         1
        ],
        [
         "uses",
         1
        ],
        [
         "N",
         1
        ],
        [
         "programs,",
         1
        ],
        [
         "\"yarn\"",
         1
        ],
        [
         "see",
         1
        ],
        [
         "./bin/pyspark",
         1
        ],
        [
         "computing",
         1
        ],
        [
         "Java,",
         1
        ],
        [
         "from",
         1
        ],
        [
         "Because",
         1
        ],
        [
         "Streaming",
         1
        ],
        [
         "More",
         1
        ],
        [
         "analysis.",
         1
        ],
        [
         "Maven](http://maven.apache.org/).",
         1
        ],
        [
         "cluster.",
         1
        ],
        [
         "Running",
         1
        ],
        [
         "talk",
         1
        ],
        [
         "distributions.",
         1
        ],
        [
         "guide,",
         1
        ],
        [
         "\"local[N]\"",
         1
        ],
        [
         "Try",
         1
        ],
        [
         "setup",
         1
        ],
        [
         "need",
         1
        ],
        [
         "spark://",
         1
        ],
        [
         "Thriftserver",
         1
        ],
        [
         "are",
         1
        ],
        [
         "requires",
         1
        ],
        [
         "package.",
         1
        ],
        [
         "clean",
         1
        ],
        [
         "sc.parallelize(range(1000)).count()",
         1
        ],
        [
         "high-level",
         1
        ],
        [
         "against",
         1
        ],
        [
         "through",
         1
        ],
        [
         "package.)",
         1
        ],
        [
         "easiest",
         1
        ],
        [
         "no",
         1
        ],
        [
         "Testing",
         1
        ],
        [
         "several",
         1
        ],
        [
         "help",
         1
        ],
        [
         "The",
         1
        ],
        [
         "sample",
         1
        ],
        [
         "MASTER=spark://host:7077",
         1
        ],
        [
         "Big",
         1
        ],
        [
         "#",
         1
        ],
        [
         "Online",
         1
        ],
        [
         "usage",
         1
        ],
        [
         "Spark\"](http://spark.apache.org/docs/latest/building-spark.html).",
         1
        ],
        [
         "way",
         1
        ],
        [
         "prefer",
         1
        ],
        [
         "build/mvn",
         1
        ],
        [
         "running",
         1
        ],
        [
         "web",
         1
        ],
        [
         "locally.",
         1
        ],
        [
         "URL,",
         1
        ],
        [
         "higher-level",
         1
        ],
        [
         "tools",
         1
        ],
        [
         "available",
         1
        ],
        [
         "Documentation",
         1
        ],
        [
         "this",
         1
        ],
        [
         "tests](https://cwiki.apache.org/confluence/display/SPARK/Useful+Developer+Tools).",
         1
        ],
        [
         "(You",
         1
        ],
        [
         ">>>",
         1
        ],
        [
         "<http://spark.apache.org/>",
         1
        ],
        [
         "environment",
         1
        ],
        [
         "built,",
         1
        ],
        [
         "module,",
         1
        ],
        [
         "them,",
         1
        ],
        [
         "`./bin/run-example",
         1
        ],
        [
         "instance:",
         1
        ],
        [
         "first",
         1
        ],
        [
         "documentation,",
         1
        ],
        [
         "[params]`.",
         1
        ],
        [
         "mesos://",
         1
        ],
        [
         "engine",
         1
        ],
        [
         "GraphX",
         1
        ],
        [
         "example:",
         1
        ],
        [
         "HDFS",
         1
        ],
        [
         "individual",
         1
        ],
        [
         "changed",
         1
        ],
        [
         "./bin/spark-shell",
         1
        ],
        [
         "threads.",
         1
        ],
        [
         "storage",
         1
        ],
        [
         "version",
         1
        ],
        [
         "instructions.",
         1
        ],
        [
         "Building",
         1
        ],
        [
         "start",
         1
        ],
        [
         "Many",
         1
        ],
        [
         "And",
         1
        ],
        [
         "distribution",
         1
        ]
       ],
       "datasetInfos": [],
       "dbfsResultPath": null,
       "isJsonSchema": true,
       "metadata": {},
       "overflow": false,
       "plotOptions": {
        "customPlotOptions": {},
        "displayType": "table",
        "pivotAggregation": null,
        "pivotColumns": null,
        "xColumns": null,
        "yColumns": null
       },
       "removedWidgets": [],
       "schema": [
        {
         "metadata": "{}",
         "name": "word",
         "type": "\"string\""
        },
        {
         "metadata": "{}",
         "name": "word_count",
         "type": "\"integer\""
        }
       ],
       "type": "table"
      }
     },
     "output_type": "display_data"
    }
   ],
   "source": [
    "df.display()"
   ]
  },
  {
   "cell_type": "code",
   "execution_count": 0,
   "metadata": {
    "application/vnd.databricks.v1+cell": {
     "cellMetadata": {
      "byteLimit": 2048000,
      "rowLimit": 10000
     },
     "inputWidgets": {},
     "nuid": "8bb2daa2-73ff-4349-9ad3-21c6fd4b6604",
     "showTitle": false,
     "tableResultSettingsMap": {},
     "title": ""
    }
   },
   "outputs": [],
   "source": []
  }
 ],
 "metadata": {
  "application/vnd.databricks.v1+notebook": {
   "computePreferences": null,
   "dashboards": [],
   "environmentMetadata": null,
   "inputWidgetPreferences": null,
   "language": "python",
   "notebookMetadata": {
    "mostRecentlyExecutedCommandWithImplicitDF": {
     "commandId": -1,
     "dataframes": [
      "_sqldf"
     ]
    },
    "pythonIndentUnit": 4
   },
   "notebookName": "002 Word Count - Pyspark Dataframe APIs - Final code",
   "widgets": {}
  }
 },
 "nbformat": 4,
 "nbformat_minor": 0
}
